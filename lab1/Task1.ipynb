{
 "cells": [
  {
   "cell_type": "markdown",
   "id": "animated-macro",
   "metadata": {},
   "source": [
    "### Homework 1: Task 1\n",
    "\n",
    "prepared by: Aslan Kossiyabek 18BD110411\n"
   ]
  },
  {
   "cell_type": "code",
   "execution_count": 53,
   "id": "linear-relay",
   "metadata": {},
   "outputs": [],
   "source": [
    "import numpy as np\n",
    "import pandas as pd"
   ]
  },
  {
   "cell_type": "markdown",
   "id": "anonymous-athens",
   "metadata": {},
   "source": [
    "#### The code below is for 1 - 4\n",
    "\n",
    "It creates list of dictionaries, tokenizes every word and lower them. Each sentence is in dictionary to make a list of distinct words."
   ]
  },
  {
   "cell_type": "code",
   "execution_count": 56,
   "id": "agricultural-august",
   "metadata": {},
   "outputs": [
    {
     "name": "stdout",
     "output_type": "stream",
     "text": [
      "[{0: 'in', 1: 'comparison', 2: 'to', 3: 'dogs,', 4: 'cats', 5: 'have', 6: 'not', 7: 'undergone', 8: 'major', 9: 'changes', 10: 'during', 11: 'the', 12: 'domestication', 13: 'process.'}, {0: 'as', 1: 'cat', 2: 'simply', 3: 'catenates', 4: 'streams', 5: 'of', 6: 'bytes,', 7: 'it', 8: 'can', 9: 'be', 10: 'also', 11: 'used', 12: 'to', 13: 'concatenate', 14: 'binary', 15: 'files,', 16: 'where', 17: 'it', 18: 'will', 19: 'just', 20: 'concatenate', 21: 'sequence', 22: 'of', 23: 'bytes.'}, {0: 'a', 1: 'common', 2: 'interactive', 3: 'use', 4: 'of', 5: 'cat', 6: 'for', 7: 'a', 8: 'single', 9: 'file', 10: 'is', 11: 'to', 12: 'output', 13: 'the', 14: 'content', 15: 'of', 16: 'a', 17: 'file', 18: 'to', 19: 'standard', 20: 'output.'}, {0: 'cats', 1: 'can', 2: 'hear', 3: 'sounds', 4: 'too', 5: 'faint', 6: 'or', 7: 'too', 8: 'high', 9: 'in', 10: 'frequency', 11: 'for', 12: 'human', 13: 'ears,', 14: 'such', 15: 'as', 16: 'those', 17: 'made', 18: 'by', 19: 'mice', 20: 'and', 21: 'other', 22: 'small', 23: 'animals.'}, {0: 'in', 1: 'one,', 2: 'people', 3: 'deliberately', 4: 'tamed', 5: 'cats', 6: 'in', 7: 'a', 8: 'process', 9: 'of', 10: 'artificial', 11: 'selection,', 12: 'as', 13: 'they', 14: 'were', 15: 'useful', 16: 'predators', 17: 'of', 18: 'vermin.'}, {0: 'the', 1: 'domesticated', 2: 'cat', 3: 'and', 4: 'its', 5: 'closest', 6: 'wild', 7: 'ancestor', 8: 'are', 9: 'both', 10: 'diploid', 11: 'organisms', 12: 'that', 13: 'possess', 14: '38', 15: 'chromosomes', 16: 'and', 17: 'roughly', 18: '20,000', 19: 'genes.'}, {0: 'domestic', 1: 'cats', 2: 'are', 3: 'similar', 4: 'in', 5: 'size', 6: 'to', 7: 'the', 8: 'other', 9: 'members', 10: 'of', 11: 'the', 12: 'genus', 13: 'felis,', 14: 'typically', 15: 'weighing', 16: 'between', 17: '4', 18: 'and', 19: '5', 20: 'kg', 21: '(8.8', 22: 'and', 23: '11.0', 24: 'lb).'}, {0: 'however,', 1: 'if', 2: 'the', 3: 'output', 4: 'is', 5: 'piped', 6: 'or', 7: 'redirected,', 8: 'cat', 9: 'is', 10: 'unnecessary.'}, {0: 'cat', 1: 'with', 2: 'one', 3: 'named', 4: 'file', 5: 'is', 6: 'safer', 7: 'where', 8: 'human', 9: 'error', 10: 'is', 11: 'a', 12: 'concern', 13: '-', 14: 'one', 15: 'wrong', 16: 'use', 17: 'of', 18: 'the', 19: 'default', 20: 'redirection', 21: 'symbol', 22: '\">\"', 23: 'instead', 24: 'of', 25: '\"<\"', 26: '(often', 27: 'adjacent', 28: 'on', 29: 'keyboards)', 30: 'may', 31: 'permanently', 32: 'delete', 33: 'the', 34: 'file', 35: 'you', 36: 'were', 37: 'just', 38: 'needing', 39: 'to', 40: 'read.'}, {0: 'in', 1: 'terms', 2: 'of', 3: 'legibility,', 4: 'a', 5: 'sequence', 6: 'of', 7: 'commands', 8: 'starting', 9: 'with', 10: 'cat', 11: 'and', 12: 'connected', 13: 'by', 14: 'pipes', 15: 'has', 16: 'a', 17: 'clear', 18: 'left-to-right', 19: 'flow', 20: 'of', 21: 'information.'}, {0: 'cat', 1: 'command', 2: 'is', 3: 'one', 4: 'of', 5: 'the', 6: 'basic', 7: 'commands', 8: 'that', 9: 'you', 10: 'learned', 11: 'when', 12: 'you', 13: 'started', 14: 'in', 15: 'the', 16: 'unix', 17: '/', 18: 'linux', 19: 'world.'}, {0: 'using', 1: 'cat', 2: 'command,', 3: 'the', 4: 'lines', 5: 'received', 6: 'from', 7: 'stdin', 8: 'can', 9: 'be', 10: 'redirected', 11: 'to', 12: 'a', 13: 'new', 14: 'file', 15: 'using', 16: 'redirection', 17: 'symbols.'}, {0: 'when', 1: 'you', 2: 'type', 3: 'simply', 4: 'cat', 5: 'command', 6: 'without', 7: 'any', 8: 'arguments,', 9: 'it', 10: 'just', 11: 'receives', 12: 'the', 13: 'stdin', 14: 'content', 15: 'and', 16: 'displays', 17: 'it', 18: 'in', 19: 'the', 20: 'stdout.'}, {0: 'leopard', 1: 'was', 2: 'released', 3: 'on', 4: 'october', 5: '26,', 6: '2007', 7: 'as', 8: 'the', 9: 'successor', 10: 'of', 11: 'tiger', 12: '(version', 13: '10.4),', 14: 'and', 15: 'is', 16: 'available', 17: 'in', 18: 'two', 19: 'editions.'}, {0: 'according', 1: 'to', 2: 'apple,', 3: 'leopard', 4: 'contains', 5: 'over', 6: '300', 7: 'changes', 8: 'and', 9: 'enhancements', 10: 'over', 11: 'its', 12: 'predecessor,', 13: 'mac', 14: 'os', 15: 'x', 16: 'tiger.'}, {0: 'as', 1: 'of', 2: 'mid', 3: '2010,', 4: 'some', 5: 'apple', 6: 'computers', 7: 'have', 8: 'firmware', 9: 'factory', 10: 'installed', 11: 'which', 12: 'will', 13: 'no', 14: 'longer', 15: 'allow', 16: 'installation', 17: 'of', 18: 'mac', 19: 'os', 20: 'x', 21: 'leopard.'}, {0: 'since', 1: 'apple', 2: 'moved', 3: 'to', 4: 'using', 5: 'intel', 6: 'processors', 7: 'in', 8: 'their', 9: 'computers,', 10: 'the', 11: 'osx86', 12: 'community', 13: 'has', 14: 'developed', 15: 'and', 16: 'now', 17: 'also', 18: 'allows', 19: 'mac', 20: 'os', 21: 'x', 22: 'tiger', 23: 'and', 24: 'later', 25: 'releases', 26: 'to', 27: 'be', 28: 'installed', 29: 'on', 30: 'non-apple', 31: 'x86-based', 32: 'computers.'}, {0: 'os', 1: 'x', 2: 'mountain', 3: 'lion', 4: 'was', 5: 'released', 6: 'on', 7: 'july', 8: '25,', 9: '2012', 10: 'for', 11: 'purchase', 12: 'and', 13: 'download', 14: 'through', 15: \"apple's\", 16: 'mac', 17: 'app', 18: 'store,', 19: 'as', 20: 'part', 21: 'of', 22: 'a', 23: 'switch', 24: 'to', 25: 'releasing', 26: 'os', 27: 'x', 28: 'versions', 29: 'online', 30: 'and', 31: 'every', 32: 'year.'}, {0: 'apple', 1: 'has', 2: 'released', 3: 'a', 4: 'small', 5: 'patch', 6: 'for', 7: 'the', 8: 'three', 9: 'most', 10: 'recent', 11: 'versions', 12: 'of', 13: 'safari', 14: 'running', 15: 'on', 16: 'os', 17: 'x', 18: 'yosemite,', 19: 'mavericks,', 20: 'and', 21: 'mountain', 22: 'lion.'}, {0: 'the', 1: 'mountain', 2: 'lion', 3: 'release', 4: 'marks', 5: 'the', 6: 'second', 7: 'time', 8: 'apple', 9: 'has', 10: 'offered', 11: 'an', 12: 'incremental', 13: 'upgrade,', 14: 'rather', 15: 'than', 16: 'releasing', 17: 'a', 18: 'new', 19: 'cat', 20: 'entirely.'}, {0: 'mac', 1: 'os', 2: 'x', 3: 'mountain', 4: 'lion', 5: 'installs', 6: 'in', 7: 'place,', 8: 'so', 9: 'you', 10: \"won't\", 11: 'need', 12: 'to', 13: 'create', 14: 'a', 15: 'separate', 16: 'disk', 17: 'or', 18: 'run', 19: 'the', 20: 'installation', 21: 'off', 22: 'an', 23: 'external', 24: 'drive.'}, {0: 'the', 1: 'fifth', 2: 'major', 3: 'update', 4: 'to', 5: 'mac', 6: 'os', 7: 'x,', 8: 'leopard,', 9: 'contains', 10: 'such', 11: 'a', 12: 'mountain', 13: 'of', 14: 'features', 15: '-', 16: 'more', 17: 'than', 18: '300', 19: 'by', 20: \"apple's\", 21: 'count.'}]\n"
     ]
    }
   ],
   "source": [
    "a = open(\"sentences.txt\", \"r\")\n",
    "\n",
    "list_of_dict = []\n",
    "\n",
    "for line in a:\n",
    "  stripped_line = line.strip().lower()\n",
    "  line_list = stripped_line.split()\n",
    "  d1 = dict(enumerate(line_list))  \n",
    "  list_of_dict.append(d1)\n",
    "    "
   ]
  },
  {
   "cell_type": "markdown",
   "id": "former-regression",
   "metadata": {},
   "source": [
    "##### Here we create a matrix for n*d"
   ]
  },
  {
   "cell_type": "code",
   "execution_count": 57,
   "id": "representative-deposit",
   "metadata": {},
   "outputs": [
    {
     "data": {
      "text/plain": [
       "array([['in', 'comparison', 'to', 'dogs,', 'cats', 'have', 'not',\n",
       "        'undergone', 'major', 'changes', 'during', 'the',\n",
       "        'domestication', 'process.', nan, nan, nan, nan, nan, nan, nan,\n",
       "        nan, nan, nan, nan, nan, nan, nan, nan, nan, nan, nan, nan, nan,\n",
       "        nan, nan, nan, nan, nan, nan, nan],\n",
       "       ['as', 'cat', 'simply', 'catenates', 'streams', 'of', 'bytes,',\n",
       "        'it', 'can', 'be', 'also', 'used', 'to', 'concatenate', 'binary',\n",
       "        'files,', 'where', 'it', 'will', 'just', 'concatenate',\n",
       "        'sequence', 'of', 'bytes.', nan, nan, nan, nan, nan, nan, nan,\n",
       "        nan, nan, nan, nan, nan, nan, nan, nan, nan, nan],\n",
       "       ['a', 'common', 'interactive', 'use', 'of', 'cat', 'for', 'a',\n",
       "        'single', 'file', 'is', 'to', 'output', 'the', 'content', 'of',\n",
       "        'a', 'file', 'to', 'standard', 'output.', nan, nan, nan, nan,\n",
       "        nan, nan, nan, nan, nan, nan, nan, nan, nan, nan, nan, nan, nan,\n",
       "        nan, nan, nan],\n",
       "       ['cats', 'can', 'hear', 'sounds', 'too', 'faint', 'or', 'too',\n",
       "        'high', 'in', 'frequency', 'for', 'human', 'ears,', 'such', 'as',\n",
       "        'those', 'made', 'by', 'mice', 'and', 'other', 'small',\n",
       "        'animals.', nan, nan, nan, nan, nan, nan, nan, nan, nan, nan,\n",
       "        nan, nan, nan, nan, nan, nan, nan],\n",
       "       ['in', 'one,', 'people', 'deliberately', 'tamed', 'cats', 'in',\n",
       "        'a', 'process', 'of', 'artificial', 'selection,', 'as', 'they',\n",
       "        'were', 'useful', 'predators', 'of', 'vermin.', nan, nan, nan,\n",
       "        nan, nan, nan, nan, nan, nan, nan, nan, nan, nan, nan, nan, nan,\n",
       "        nan, nan, nan, nan, nan, nan],\n",
       "       ['the', 'domesticated', 'cat', 'and', 'its', 'closest', 'wild',\n",
       "        'ancestor', 'are', 'both', 'diploid', 'organisms', 'that',\n",
       "        'possess', '38', 'chromosomes', 'and', 'roughly', '20,000',\n",
       "        'genes.', nan, nan, nan, nan, nan, nan, nan, nan, nan, nan, nan,\n",
       "        nan, nan, nan, nan, nan, nan, nan, nan, nan, nan],\n",
       "       ['domestic', 'cats', 'are', 'similar', 'in', 'size', 'to', 'the',\n",
       "        'other', 'members', 'of', 'the', 'genus', 'felis,', 'typically',\n",
       "        'weighing', 'between', '4', 'and', '5', 'kg', '(8.8', 'and',\n",
       "        '11.0', 'lb).', nan, nan, nan, nan, nan, nan, nan, nan, nan, nan,\n",
       "        nan, nan, nan, nan, nan, nan],\n",
       "       ['however,', 'if', 'the', 'output', 'is', 'piped', 'or',\n",
       "        'redirected,', 'cat', 'is', 'unnecessary.', nan, nan, nan, nan,\n",
       "        nan, nan, nan, nan, nan, nan, nan, nan, nan, nan, nan, nan, nan,\n",
       "        nan, nan, nan, nan, nan, nan, nan, nan, nan, nan, nan, nan, nan],\n",
       "       ['cat', 'with', 'one', 'named', 'file', 'is', 'safer', 'where',\n",
       "        'human', 'error', 'is', 'a', 'concern', '-', 'one', 'wrong',\n",
       "        'use', 'of', 'the', 'default', 'redirection', 'symbol', '\">\"',\n",
       "        'instead', 'of', '\"<\"', '(often', 'adjacent', 'on', 'keyboards)',\n",
       "        'may', 'permanently', 'delete', 'the', 'file', 'you', 'were',\n",
       "        'just', 'needing', 'to', 'read.'],\n",
       "       ['in', 'terms', 'of', 'legibility,', 'a', 'sequence', 'of',\n",
       "        'commands', 'starting', 'with', 'cat', 'and', 'connected', 'by',\n",
       "        'pipes', 'has', 'a', 'clear', 'left-to-right', 'flow', 'of',\n",
       "        'information.', nan, nan, nan, nan, nan, nan, nan, nan, nan, nan,\n",
       "        nan, nan, nan, nan, nan, nan, nan, nan, nan],\n",
       "       ['cat', 'command', 'is', 'one', 'of', 'the', 'basic', 'commands',\n",
       "        'that', 'you', 'learned', 'when', 'you', 'started', 'in', 'the',\n",
       "        'unix', '/', 'linux', 'world.', nan, nan, nan, nan, nan, nan,\n",
       "        nan, nan, nan, nan, nan, nan, nan, nan, nan, nan, nan, nan, nan,\n",
       "        nan, nan],\n",
       "       ['using', 'cat', 'command,', 'the', 'lines', 'received', 'from',\n",
       "        'stdin', 'can', 'be', 'redirected', 'to', 'a', 'new', 'file',\n",
       "        'using', 'redirection', 'symbols.', nan, nan, nan, nan, nan, nan,\n",
       "        nan, nan, nan, nan, nan, nan, nan, nan, nan, nan, nan, nan, nan,\n",
       "        nan, nan, nan, nan],\n",
       "       ['when', 'you', 'type', 'simply', 'cat', 'command', 'without',\n",
       "        'any', 'arguments,', 'it', 'just', 'receives', 'the', 'stdin',\n",
       "        'content', 'and', 'displays', 'it', 'in', 'the', 'stdout.', nan,\n",
       "        nan, nan, nan, nan, nan, nan, nan, nan, nan, nan, nan, nan, nan,\n",
       "        nan, nan, nan, nan, nan, nan],\n",
       "       ['leopard', 'was', 'released', 'on', 'october', '26,', '2007',\n",
       "        'as', 'the', 'successor', 'of', 'tiger', '(version', '10.4),',\n",
       "        'and', 'is', 'available', 'in', 'two', 'editions.', nan, nan,\n",
       "        nan, nan, nan, nan, nan, nan, nan, nan, nan, nan, nan, nan, nan,\n",
       "        nan, nan, nan, nan, nan, nan],\n",
       "       ['according', 'to', 'apple,', 'leopard', 'contains', 'over',\n",
       "        '300', 'changes', 'and', 'enhancements', 'over', 'its',\n",
       "        'predecessor,', 'mac', 'os', 'x', 'tiger.', nan, nan, nan, nan,\n",
       "        nan, nan, nan, nan, nan, nan, nan, nan, nan, nan, nan, nan, nan,\n",
       "        nan, nan, nan, nan, nan, nan, nan],\n",
       "       ['as', 'of', 'mid', '2010,', 'some', 'apple', 'computers', 'have',\n",
       "        'firmware', 'factory', 'installed', 'which', 'will', 'no',\n",
       "        'longer', 'allow', 'installation', 'of', 'mac', 'os', 'x',\n",
       "        'leopard.', nan, nan, nan, nan, nan, nan, nan, nan, nan, nan,\n",
       "        nan, nan, nan, nan, nan, nan, nan, nan, nan],\n",
       "       ['since', 'apple', 'moved', 'to', 'using', 'intel', 'processors',\n",
       "        'in', 'their', 'computers,', 'the', 'osx86', 'community', 'has',\n",
       "        'developed', 'and', 'now', 'also', 'allows', 'mac', 'os', 'x',\n",
       "        'tiger', 'and', 'later', 'releases', 'to', 'be', 'installed',\n",
       "        'on', 'non-apple', 'x86-based', 'computers.', nan, nan, nan, nan,\n",
       "        nan, nan, nan, nan],\n",
       "       ['os', 'x', 'mountain', 'lion', 'was', 'released', 'on', 'july',\n",
       "        '25,', '2012', 'for', 'purchase', 'and', 'download', 'through',\n",
       "        \"apple's\", 'mac', 'app', 'store,', 'as', 'part', 'of', 'a',\n",
       "        'switch', 'to', 'releasing', 'os', 'x', 'versions', 'online',\n",
       "        'and', 'every', 'year.', nan, nan, nan, nan, nan, nan, nan, nan],\n",
       "       ['apple', 'has', 'released', 'a', 'small', 'patch', 'for', 'the',\n",
       "        'three', 'most', 'recent', 'versions', 'of', 'safari', 'running',\n",
       "        'on', 'os', 'x', 'yosemite,', 'mavericks,', 'and', 'mountain',\n",
       "        'lion.', nan, nan, nan, nan, nan, nan, nan, nan, nan, nan, nan,\n",
       "        nan, nan, nan, nan, nan, nan, nan],\n",
       "       ['the', 'mountain', 'lion', 'release', 'marks', 'the', 'second',\n",
       "        'time', 'apple', 'has', 'offered', 'an', 'incremental',\n",
       "        'upgrade,', 'rather', 'than', 'releasing', 'a', 'new', 'cat',\n",
       "        'entirely.', nan, nan, nan, nan, nan, nan, nan, nan, nan, nan,\n",
       "        nan, nan, nan, nan, nan, nan, nan, nan, nan, nan],\n",
       "       ['mac', 'os', 'x', 'mountain', 'lion', 'installs', 'in', 'place,',\n",
       "        'so', 'you', \"won't\", 'need', 'to', 'create', 'a', 'separate',\n",
       "        'disk', 'or', 'run', 'the', 'installation', 'off', 'an',\n",
       "        'external', 'drive.', nan, nan, nan, nan, nan, nan, nan, nan,\n",
       "        nan, nan, nan, nan, nan, nan, nan, nan],\n",
       "       ['the', 'fifth', 'major', 'update', 'to', 'mac', 'os', 'x,',\n",
       "        'leopard,', 'contains', 'such', 'a', 'mountain', 'of',\n",
       "        'features', '-', 'more', 'than', '300', 'by', \"apple's\",\n",
       "        'count.', nan, nan, nan, nan, nan, nan, nan, nan, nan, nan, nan,\n",
       "        nan, nan, nan, nan, nan, nan, nan, nan]], dtype=object)"
      ]
     },
     "execution_count": 57,
     "metadata": {},
     "output_type": "execute_result"
    }
   ],
   "source": [
    "pd.DataFrame(list_of_dict).values"
   ]
  },
  {
   "cell_type": "code",
   "execution_count": null,
   "id": "outer-kitty",
   "metadata": {},
   "outputs": [],
   "source": []
  }
 ],
 "metadata": {
  "kernelspec": {
   "display_name": "Python 3",
   "language": "python",
   "name": "python3"
  },
  "language_info": {
   "codemirror_mode": {
    "name": "ipython",
    "version": 3
   },
   "file_extension": ".py",
   "mimetype": "text/x-python",
   "name": "python",
   "nbconvert_exporter": "python",
   "pygments_lexer": "ipython3",
   "version": "3.8.2"
  }
 },
 "nbformat": 4,
 "nbformat_minor": 5
}
