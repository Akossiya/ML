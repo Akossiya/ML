{
 "cells": [
  {
   "cell_type": "code",
   "execution_count": 7,
   "id": "aware-clinic",
   "metadata": {},
   "outputs": [],
   "source": [
    "def getMaxLength(arr, n):\n",
    "    count = 0 \n",
    "    result = 0 \n",
    "  \n",
    "    for i in range(0, n):\n",
    "        if (arr[i] == 1):\n",
    "            count = 0\n",
    "            \n",
    "        else:\n",
    "            \n",
    "            count+= 1 \n",
    "            result = max(result, count) \n",
    "          \n",
    "    return result \n",
    "\n",
    "def makeBin(n):\n",
    "    b = ''\n",
    " \n",
    "    while n > 0:\n",
    "        b = str(n % 2) + b\n",
    "        n = n // 2\n",
    "    return b\n",
    "\n",
    "def solution(N):\n",
    "\n",
    "    a = makeBin(N)\n",
    "    n = len(a)\n",
    "    c = getMaxLength(a , n)\n",
    "    return c\n"
   ]
  },
  {
   "cell_type": "code",
   "execution_count": 9,
   "id": "substantial-decrease",
   "metadata": {},
   "outputs": [
    {
     "name": "stdout",
     "output_type": "stream",
     "text": [
      "4\n"
     ]
    }
   ],
   "source": [
    "print(solution(9))"
   ]
  },
  {
   "cell_type": "code",
   "execution_count": null,
   "id": "equipped-annotation",
   "metadata": {},
   "outputs": [],
   "source": []
  }
 ],
 "metadata": {
  "kernelspec": {
   "display_name": "Python 3",
   "language": "python",
   "name": "python3"
  },
  "language_info": {
   "codemirror_mode": {
    "name": "ipython",
    "version": 3
   },
   "file_extension": ".py",
   "mimetype": "text/x-python",
   "name": "python",
   "nbconvert_exporter": "python",
   "pygments_lexer": "ipython3",
   "version": "3.8.2"
  }
 },
 "nbformat": 4,
 "nbformat_minor": 5
}
