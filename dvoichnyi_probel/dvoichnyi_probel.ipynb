{
 "cells": [
  {
   "cell_type": "code",
   "execution_count": 24,
   "id": "aware-clinic",
   "metadata": {},
   "outputs": [],
   "source": [
    "def getMaxLength(arr, n):\n",
    "    count = 0 \n",
    "    result = 0 \n",
    "  \n",
    "    for i in range(0, n):\n",
    "        if (arr[i] == 1):\n",
    "            count = 0\n",
    "            \n",
    "        else:\n",
    "            \n",
    "            count+= 1 \n",
    "            result = max(result, count) \n",
    "          \n",
    "    return result \n",
    "\n",
    "def makeBin(n):\n",
    "    b = ''\n",
    " \n",
    "    while n > 0:\n",
    "        b = str(n % 2) + b\n",
    "        n = n // 2\n",
    "    return b\n",
    "\n",
    "def solution(N):\n",
    "\n",
    "    a = makeBin(N)\n",
    "    n = len(a)\n",
    "    c = getMaxLeng\n"
   ]
  },
  {
   "cell_type": "code",
   "execution_count": 25,
   "id": "substantial-decrease",
   "metadata": {},
   "outputs": [
    {
     "ename": "NameError",
     "evalue": "name 'getMaxlength' is not defined",
     "output_type": "error",
     "traceback": [
      "\u001b[1;31m---------------------------------------------------------------------------\u001b[0m",
      "\u001b[1;31mNameError\u001b[0m                                 Traceback (most recent call last)",
      "\u001b[1;32m<ipython-input-25-81dd031ac218>\u001b[0m in \u001b[0;36m<module>\u001b[1;34m\u001b[0m\n\u001b[1;32m----> 1\u001b[1;33m \u001b[0mprint\u001b[0m\u001b[1;33m(\u001b[0m\u001b[0msolution\u001b[0m\u001b[1;33m(\u001b[0m\u001b[1;36m55\u001b[0m\u001b[1;33m)\u001b[0m\u001b[1;33m)\u001b[0m\u001b[1;33m\u001b[0m\u001b[1;33m\u001b[0m\u001b[0m\n\u001b[0m",
      "\u001b[1;32m<ipython-input-24-5fed3d37c57d>\u001b[0m in \u001b[0;36msolution\u001b[1;34m(N)\u001b[0m\n\u001b[0;32m     26\u001b[0m     \u001b[0ma\u001b[0m \u001b[1;33m=\u001b[0m \u001b[0mmakeBin\u001b[0m\u001b[1;33m(\u001b[0m\u001b[0mN\u001b[0m\u001b[1;33m)\u001b[0m\u001b[1;33m\u001b[0m\u001b[1;33m\u001b[0m\u001b[0m\n\u001b[0;32m     27\u001b[0m     \u001b[0mn\u001b[0m \u001b[1;33m=\u001b[0m \u001b[0mlen\u001b[0m\u001b[1;33m(\u001b[0m\u001b[0ma\u001b[0m\u001b[1;33m)\u001b[0m\u001b[1;33m\u001b[0m\u001b[1;33m\u001b[0m\u001b[0m\n\u001b[1;32m---> 28\u001b[1;33m     \u001b[0mprint\u001b[0m\u001b[1;33m(\u001b[0m\u001b[0mgetMaxlength\u001b[0m\u001b[1;33m(\u001b[0m\u001b[0ma\u001b[0m\u001b[1;33m,\u001b[0m \u001b[0mn\u001b[0m\u001b[1;33m)\u001b[0m\u001b[1;33m)\u001b[0m\u001b[1;33m\u001b[0m\u001b[1;33m\u001b[0m\u001b[0m\n\u001b[0m",
      "\u001b[1;31mNameError\u001b[0m: name 'getMaxlength' is not defined"
     ]
    }
   ],
   "source": [
    "print(solution(55))"
   ]
  },
  {
   "cell_type": "code",
   "execution_count": null,
   "id": "equipped-annotation",
   "metadata": {},
   "outputs": [],
   "source": []
  }
 ],
 "metadata": {
  "kernelspec": {
   "display_name": "Python 3",
   "language": "python",
   "name": "python3"
  },
  "language_info": {
   "codemirror_mode": {
    "name": "ipython",
    "version": 3
   },
   "file_extension": ".py",
   "mimetype": "text/x-python",
   "name": "python",
   "nbconvert_exporter": "python",
   "pygments_lexer": "ipython3",
   "version": "3.8.2"
  }
 },
 "nbformat": 4,
 "nbformat_minor": 5
}
